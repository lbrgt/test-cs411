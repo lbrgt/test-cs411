{
 "cells": [
  {
   "cell_type": "code",
   "execution_count": 1,
   "id": "4204a001-ad71-4682-b0ec-73b3c0d90554",
   "metadata": {},
   "outputs": [],
   "source": [
    "import pandas"
   ]
  },
  {
   "cell_type": "code",
   "execution_count": 3,
   "id": "fee02038-7026-4539-ab58-d0010fdb4e20",
   "metadata": {},
   "outputs": [],
   "source": [
    "from IPython.display import IFrame"
   ]
  },
  {
   "cell_type": "code",
   "execution_count": 6,
   "id": "bc631775-cb10-409d-b0fd-9280e26ea139",
   "metadata": {},
   "outputs": [
    {
     "data": {
      "text/html": [
       "\n",
       "        <iframe\n",
       "            width=\"800\"\n",
       "            height=\"600\"\n",
       "            src=\"https://www.cs411-moodle.com/h5p/embed.php?url=https%3A%2F%2Fwww.cs411-moodle.com%2Fpluginfile.php%2F7570%2Fmod_h5pactivity%2Fpackage%2F0%2Fmultiple-choice-4.h5p&amp;component=mod_h5pactivity\"\n",
       "            frameborder=\"0\"\n",
       "            allowfullscreen\n",
       "            \n",
       "        ></iframe>\n",
       "        "
      ],
      "text/plain": [
       "<IPython.lib.display.IFrame at 0x7f3705404490>"
      ]
     },
     "execution_count": 6,
     "metadata": {},
     "output_type": "execute_result"
    }
   ],
   "source": [
    "IFrame('https://www.cs411-moodle.com/h5p/embed.php?url=https%3A%2F%2Fwww.cs411-moodle.com%2Fpluginfile.php%2F7570%2Fmod_h5pactivity%2Fpackage%2F0%2Fmultiple-choice-4.h5p&amp;component=mod_h5pactivity', 800, 600)"
   ]
  },
  {
   "cell_type": "code",
   "execution_count": null,
   "id": "9b46785e-6b34-4c52-a1a2-276353773dc0",
   "metadata": {},
   "outputs": [],
   "source": [
    "<script src=\"https://www.cs411-moodle.com/h5p/h5plib/v124/joubel/core/js/h5p-resizer.js\"></script>"
   ]
  }
 ],
 "metadata": {
  "kernelspec": {
   "display_name": "Python 3 (ipykernel)",
   "language": "python",
   "name": "python3"
  },
  "language_info": {
   "codemirror_mode": {
    "name": "ipython",
    "version": 3
   },
   "file_extension": ".py",
   "mimetype": "text/x-python",
   "name": "python",
   "nbconvert_exporter": "python",
   "pygments_lexer": "ipython3",
   "version": "3.9.7"
  }
 },
 "nbformat": 4,
 "nbformat_minor": 5
}
